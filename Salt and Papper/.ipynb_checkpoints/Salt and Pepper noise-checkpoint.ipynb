{
 "cells": [
  {
   "cell_type": "code",
   "execution_count": 2,
   "id": "b2e1ab77",
   "metadata": {},
   "outputs": [],
   "source": [
    "import random\n",
    "import cv2\n",
    "import os\n",
    "\n",
    "\n",
    "BASEDIR = \"./data\"\n",
    "    \n",
    "def add_noise(img):\n",
    " \n",
    "    # Getting the dimensions of the image\n",
    "    row , col = img.shape\n",
    "     \n",
    "    # Randomly pick some pixels in the\n",
    "    # image for coloring them white\n",
    "    # Pick a random number between 300 and 10000\n",
    "    number_of_pixels = random.randint(300, 10000)\n",
    "    for i in range(number_of_pixels):\n",
    "       \n",
    "        # Pick a random y coordinate\n",
    "        y_coord=random.randint(0, row - 1)\n",
    "         \n",
    "        # Pick a random x coordinate\n",
    "        x_coord=random.randint(0, col - 1)\n",
    "         \n",
    "        # Color that pixel to white\n",
    "        img[y_coord][x_coord] = 255\n",
    "         \n",
    "    # Randomly pick some pixels in\n",
    "    # the image for coloring them black\n",
    "    # Pick a random number between 300 and 10000\n",
    "    number_of_pixels = random.randint(300 , 10000)\n",
    "    for i in range(number_of_pixels):\n",
    "       \n",
    "        # Pick a random y coordinate\n",
    "        y_coord=random.randint(0, row - 1)\n",
    "         \n",
    "        # Pick a random x coordinate\n",
    "        x_coord=random.randint(0, col - 1)\n",
    "         \n",
    "        # Color that pixel to black\n",
    "        img[y_coord][x_coord] = 0\n",
    "         \n",
    "    return img"
   ]
  },
  {
   "cell_type": "code",
   "execution_count": null,
   "id": "1c5490ab",
   "metadata": {},
   "outputs": [],
   "source": [
    "path = input(\"Путь до изображения: \")"
   ]
  },
  {
   "cell_type": "code",
   "execution_count": 9,
   "id": "8f4102ff",
   "metadata": {},
   "outputs": [
    {
     "data": {
      "text/plain": [
       "True"
      ]
     },
     "execution_count": 9,
     "metadata": {},
     "output_type": "execute_result"
    }
   ],
   "source": [
    "img = cv2.imread(path, cv2.IMREAD_GRAYSCALE)\n",
    "\n",
    "if not os.path.exists(BASEDIR):\n",
    "    os.makedirs(BASEDIR)\n",
    " \n",
    "#Storing the image\n",
    "cv2.imwrite(BASEDIR + \"/\" + os.path.basename(path), add_noise(img))"
   ]
  },
  {
   "cell_type": "code",
   "execution_count": null,
   "id": "b7aa2321",
   "metadata": {},
   "outputs": [],
   "source": []
  }
 ],
 "metadata": {
  "kernelspec": {
   "display_name": "Python 3 (ipykernel)",
   "language": "python",
   "name": "python3"
  },
  "language_info": {
   "codemirror_mode": {
    "name": "ipython",
    "version": 3
   },
   "file_extension": ".py",
   "mimetype": "text/x-python",
   "name": "python",
   "nbconvert_exporter": "python",
   "pygments_lexer": "ipython3",
   "version": "3.9.7"
  }
 },
 "nbformat": 4,
 "nbformat_minor": 5
}
